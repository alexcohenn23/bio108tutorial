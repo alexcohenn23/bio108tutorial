{
  "nbformat": 4,
  "nbformat_minor": 0,
  "metadata": {
    "colab": {
      "provenance": [],
      "authorship_tag": "ABX9TyMURepF+jVizUkniS1OIjwK",
      "include_colab_link": true
    },
    "kernelspec": {
      "name": "python3",
      "display_name": "Python 3"
    },
    "language_info": {
      "name": "python"
    }
  },
  "cells": [
    {
      "cell_type": "markdown",
      "metadata": {
        "id": "view-in-github",
        "colab_type": "text"
      },
      "source": [
        "<a href=\"https://colab.research.google.com/github/alexcohenn23/bio108tutorial/blob/main/tropical_bird_habitat_persistance.ipynb\" target=\"_parent\"><img src=\"https://colab.research.google.com/assets/colab-badge.svg\" alt=\"Open In Colab\"/></a>"
      ]
    },
    {
      "cell_type": "markdown",
      "source": [
        "# BIOL108 Tutorial: How Are Tropical Birds Adapting to Loss of Habitat"
      ],
      "metadata": {
        "id": "BIjErMAT87ix"
      }
    },
    {
      "cell_type": "markdown",
      "source": [
        "## Inspiration of Tutorial + Peer-Reviewed Citation & Dataset\n"
      ],
      "metadata": {
        "id": "LEQ9A5gZVxfD"
      }
    },
    {
      "cell_type": "markdown",
      "source": [
        "This tutorial is inspired by the folllowing paper:\n",
        "\n",
        "Sánchez‐Clavijo, Lina María; Bayly, Nicholas James; Quintana‐Ascencio, Pedro Francisco (2019), Habitat selection in transformed landscapes and the role of forest remnants and shade coffee in the conservation of resident birds, Journal of Animal Ecology, Article-journal, https://doi.org/10.1111/1365-2656.13108\n",
        "\n",
        "** data available at https://datadryad.org/dataset/doi:10.5061/dryad.mp5rn5b#usage\n",
        "\n",
        "The paper is built around answering species persistance in tropical birds. Namely, whether those who face a loss of habitat have a preference torward shade coffee farms and how said habitat affects species' performance. At the same time, the paper also hypothesizes the extent to which shade coffee plants contribute to the conservation of resident birds versus native forests. The data is collected in Hacienda La Victoria in Magdalena, Colombia.\n",
        "\n",
        "\n",
        "Despite the researchers' investigation in to the subject, their collection and statistical analysis data proved to be largely inconclusive. This was mostly due to 70% of statistical tests signaling unclear differences between the forests vs shade coffee habitats (and limited adjustments for confounding variables). On top of this, about half of species from the remaining statistcal tests proved to be generalist species—no preference or superior performance in either habitat. From the small sample size of results that remained, it was concluded that species generally favored forests (5 of 7 species) and 4 of those 5 species performed better in forests. So, while shade coffee may be more conservation friendly than other agricultural land, it is still generally less effective than tropical forests. The study was also inconclusive in finding any sort of pattern identifying any characteristics that would leave tropical birds more susceptible to human activities (ie. deforestation and converting forest land to shade coffee land cover).\n"
      ],
      "metadata": {
        "id": "oVGXYBr9VzNi"
      }
    },
    {
      "cell_type": "markdown",
      "source": [
        "\n",
        "![Text](https://aceer.org/wp-content/uploads/2021/01/ACEER-Shade-Grown-Coffee_5.png)\n",
        "\n",
        "** Image from [Aceer Foundation](https://aceer.org/help-the-rainforest-with-a-cup-of-shade-grown-coffee/)"
      ],
      "metadata": {
        "id": "rAgiUdz0MEzi"
      }
    },
    {
      "cell_type": "markdown",
      "source": [
        "## Main Objectives & Motivation of Tutorial:\n",
        "\n"
      ],
      "metadata": {
        "id": "jS7cIcKGV0UQ"
      }
    },
    {
      "cell_type": "markdown",
      "source": [
        "From the findings of the paper, I sought to further explore how birds are adapting to deforestation. Mainly, this tutorial is built around discovering the following main objectives:\n",
        "\n",
        "  * How much more effective are forests are conserving bird species than shade coffee habitats? Does this number change over the 7-year span of the study?\n",
        "\n",
        "  * Is there a difference in how popular a habitat is by age (ie. are birds in shade coffee areas typically younger?)\n",
        "\n",
        "  * As deforestation becomes a larger issue, is there a change in frequency of bird spottings in each habitat (ie. does the proportion of birds found in forests substantially change from 2009 to 2015?)\n",
        "\n",
        "Motivation:\n",
        "\n",
        "Research suggests that approximately 40-75% of all species are indigenous to tropical rainforests [(NPS.gov)](https://www.nps.gov/teachers/classrooms/wildlife-of-the-tropical-rainforests.htm#:~:text=Background,plant%20species%20on%20the%20planet.). At the same time, estimates suggest that more than 1 in 8 bird species face extinction [(BirdLife International)](https://datazone.birdlife.org/articles/one-in-eight-of-all-bird-species-is-threatened-with-global-extinction) with roughly two-thrids of bird species residing in forests—many uniquely found in one habitat/forest. As a result, it is important to determine how changes in the landscape of tropical forests are affecting bird species and their ability to adapt.\n",
        "\n",
        "For the specific dataset used for this analysis, it is critical to analyze how effective tropical forest substitutes, like shade coffee land, are at conserving and supporting exisitng bird species in the region. Through statistical analysis, we can gain a better idea at birds' ability to adapt to shade coffee environments and the habitat's ability to support bird species relative to tropical rainforests.\n",
        "\n"
      ],
      "metadata": {
        "id": "BlLlF7KOdl2V"
      }
    },
    {
      "cell_type": "markdown",
      "source": [
        "## Pre-Processing Data in Python"
      ],
      "metadata": {
        "id": "cKdS0RXXeAmw"
      }
    },
    {
      "cell_type": "markdown",
      "source": [
        "For the tutorial, we are working with a CSV file. As a result, we will using the following packages below to manipulate the data frame, create plots of our data, and utilize statisical analysis"
      ],
      "metadata": {
        "id": "RDty7KW-xPY8"
      }
    },
    {
      "cell_type": "code",
      "source": [
        "import numpy as np\n",
        "\n",
        "import pandas as pd\n",
        "\n",
        "from pandas import Series, DataFrame  # important for making our own pd dataframe\n",
        "\n",
        "# The following packages are important for creating the desired plots today:\n",
        "\n",
        "import matplotlib.pyplot as plt\n",
        "\n",
        "import plotly.express as px\n",
        "\n",
        "import seaborn as sns\n",
        "\n",
        "\n",
        "'''the following stats package differs from what we worked with in class,\n",
        "but I personally found it easier to work with'''\n",
        "import statsmodels.api as sm"
      ],
      "metadata": {
        "id": "n4qgJ9A-HGpn"
      },
      "execution_count": 5,
      "outputs": []
    },
    {
      "cell_type": "code",
      "source": [
        "# URL link to github repository where our data is stored (+ ?raw=true' to extract csv dataframe)\n",
        "\n",
        "bird_character = 'https://github.com/alexcohenn23/bio108tutorial/blob/main/SanchezClavijo_etal2019_individual_characteristics.csv' + '?raw=true'"
      ],
      "metadata": {
        "id": "IAo_fwbkIM6A"
      },
      "execution_count": 3,
      "outputs": []
    },
    {
      "cell_type": "code",
      "source": [
        "# Converting file to a pandas csv file to manipulate later on:\n",
        "bird_char = pd.read_csv(bird_character)"
      ],
      "metadata": {
        "id": "_8HtPpLhJM3K"
      },
      "execution_count": 6,
      "outputs": []
    },
    {
      "cell_type": "markdown",
      "source": [
        "### Pre-Processing bird_char"
      ],
      "metadata": {
        "id": "8UUJQj1GNrzo"
      }
    },
    {
      "cell_type": "markdown",
      "source": [
        "Our main goals with pre-processing the bird_char variable for the first round of analysis is to\n",
        "*  Seperate by year to determine if there is an increasing trend of % of sightings in dif locations\n",
        "*   Seperate by age (are younger birds going to forests/coffee at high proportion than lower ages?)\n",
        "\n",
        "\n",
        "\n"
      ],
      "metadata": {
        "id": "SaATFaCsTqtK"
      }
    },
    {
      "cell_type": "code",
      "source": [
        "# enter bird_char!!\n"
      ],
      "metadata": {
        "id": "i4hNc-tGy1Q3"
      },
      "execution_count": 7,
      "outputs": []
    },
    {
      "cell_type": "code",
      "source": [
        "# Goal 1: Seperate By Year\n",
        "\n",
        "'''The commmand below utilizes a boolean statement; basically it filters through each rows by saying if\n",
        "the statemnt df[column] == variable is true, keep, otherwise disregard\n",
        "'''\n"
      ],
      "metadata": {
        "id": "NZ3_sQQ0N0ej",
        "colab": {
          "base_uri": "https://localhost:8080/",
          "height": 53
        },
        "outputId": "88472231-16f3-4ea4-f90f-037817b9f985"
      },
      "execution_count": 1,
      "outputs": [
        {
          "output_type": "execute_result",
          "data": {
            "text/plain": [
              "'The commmand below utilizes a boolean statement; basically it filters through each rows by saying if\\nthe statemnt df[column] == variable is true, keep, otherwise disregard\\n'"
            ],
            "application/vnd.google.colaboratory.intrinsic+json": {
              "type": "string"
            }
          },
          "metadata": {},
          "execution_count": 1
        }
      ]
    },
    {
      "cell_type": "markdown",
      "source": [
        "##### For time's sake, the remaining variables are pre-written below:"
      ],
      "metadata": {
        "id": "JHuu2hs2y-gU"
      }
    },
    {
      "cell_type": "code",
      "source": [
        "bird_char2014 = bird_char[bird_char['Year'] == 2014]\n",
        "\n",
        "bird_char2013 = bird_char[bird_char['Year'] == 2013]\n",
        "\n",
        "bird_char2012 = bird_char[bird_char['Year'] == 2012]\n",
        "\n",
        "bird_char2011 = bird_char[bird_char['Year'] == 2011]\n",
        "\n",
        "bird_char2010 = bird_char[bird_char['Year'] == 2010]\n",
        "\n",
        "bird_char2009 = bird_char[bird_char['Year'] == 2009]"
      ],
      "metadata": {
        "id": "s3pNv3PGzxfZ"
      },
      "execution_count": 8,
      "outputs": []
    },
    {
      "cell_type": "markdown",
      "source": [
        "#### Goal 2: Seperate by Age"
      ],
      "metadata": {
        "id": "aa7JymJdz3Kq"
      }
    },
    {
      "cell_type": "code",
      "source": [
        "'''Goal 2: Seperate by Age; Age of 0 is unknown, so these values will all be discarded.\n",
        "Then, we will create 3 new variables, holding the indices when the bird is juvenile (age == 2), immature (age == 3), and an adult (age ==4).\n",
        "The ultimate goal by sorting this data is to later chart whether there is a correlation/influence of birds' habitat based on their age.\n",
        "At the same, we want to use these new variables and the variables grouped by year to analyze whether birds in shade coffee habitats are adapting\n",
        "better / becoming more fit (or approaching that of birds who reside in forests).\n",
        "'''\n",
        "\n",
        "bird_charJuv = bird_char[bird_char['AGE'] == 2]\n",
        "\n",
        "bird_charImm = bird_char[bird_char['AGE'] == 3]\n",
        "\n",
        "bird_charAdu = bird_char[bird_char['AGE'] == 4]"
      ],
      "metadata": {
        "id": "Z46brGAhVzGH"
      },
      "execution_count": 9,
      "outputs": []
    },
    {
      "cell_type": "markdown",
      "source": [
        "## Analytical Approach"
      ],
      "metadata": {
        "id": "hvTcw8dgdmMN"
      }
    },
    {
      "cell_type": "markdown",
      "source": [
        "The main goal of our analysis is to compare which habitat birds are appearing in more frequently, and whether or not this changes over time. At the same time, we are looking into seeing if birds of different ages have difference preferences and, in general, if this is supported by how healthy the birds are (measured through mass).\n",
        "\n",
        "\n",
        "> This implemention will include a variety of plots/types of analysis, including grouped bar charts, scatterplots, and linear regression plots. Through this, we will achieve a better understanding of how birds are interacting with their native environments and potential substitutes as the implications of deforestation/climate change progress.\n",
        "\n",
        "  "
      ],
      "metadata": {
        "id": "t7R1WrvId04I"
      }
    },
    {
      "cell_type": "markdown",
      "source": [
        "## Implementing Analysis"
      ],
      "metadata": {
        "id": "zRTA2lhEd1L3"
      }
    },
    {
      "cell_type": "markdown",
      "source": [
        "### Creating grouped bar charts of bird sightings in each environment each year (seperated by age):\n",
        "\n",
        "\n"
      ],
      "metadata": {
        "id": "eapktMrjERaB"
      }
    },
    {
      "cell_type": "markdown",
      "source": [
        "The goal of the of these plot is to gain a brief understanding of the data before plotting it for a closer analysis.\n",
        "\n",
        "Using the seaborn package, let's use a countplot to graph the number of birds at each site (separated by age).\n",
        "\n",
        "\n",
        "\n",
        "```\n",
        "fig, axes = plt.subplots(1, 3, figsize = (20,6))\n",
        "\n",
        "sns.countplot(bird_charJuv, x=\"Year\", hue=\"Habitat\", ax=axes[0])\n",
        "axes[0].set_title('Juvenile Bird Bird Sightings by Habitat')\n",
        "\n",
        "\n",
        "sns.countplot(bird_charImm, x=\"Year\", hue=\"Habitat\", ax = axes[1])\n",
        "axes[1].set_title('Immature Bird Sightings by Habitat')\n",
        "\n",
        "sns.countplot(bird_charAdu, x=\"Year\", hue=\"Habitat\", ax = axes[2])\n",
        "axes[2].set_title('Adult Bird Sightings by Habitat')\n",
        "\n",
        "plt.show()\n",
        "```\n",
        "\n",
        "** Notice that the **hue** parameter allows us to plot multiple variables against each other in our countplot"
      ],
      "metadata": {
        "id": "P-zizrhE0Rkv"
      }
    },
    {
      "cell_type": "code",
      "source": [
        "# Enter Code Here:\n"
      ],
      "metadata": {
        "id": "xcUsVLtt2GYh"
      },
      "execution_count": null,
      "outputs": []
    },
    {
      "cell_type": "markdown",
      "source": [
        "### Further analysis:\n",
        "\n",
        "** While not explicitly mentioned in the data set / associated literature, the abnormly low counts of birds in shade coffee habitats in 2009 and 2015 across all ages suggests that there may have been a lesser focus on observing birds in shade coffee habitats in 2009 and 2015. For the sake of this analysis, data from 2009 and 2015 will be ignored."
      ],
      "metadata": {
        "id": "WvtiC-9JLgvU"
      }
    },
    {
      "cell_type": "markdown",
      "source": [
        "From here, the first goal is to understand how the proportion of birds in each environment change YoY from 2010 to 2014.\n",
        "\n"
      ],
      "metadata": {
        "id": "q0nviFynMgGe"
      }
    },
    {
      "cell_type": "markdown",
      "source": [
        "##### Calculating Proportion for All Birds:"
      ],
      "metadata": {
        "id": "7fbSlKlof4Lm"
      }
    },
    {
      "cell_type": "markdown",
      "source": [
        "For calculating the proportions of the birds, we will be storing the respective values in a dictionary instead of a variable. While this may seem very odd, it will hopefully make sense once we construct our pandas dataframe.\n",
        "\n",
        "As a reminder: `dict = {key: value} | dict[new_key] = val`"
      ],
      "metadata": {
        "id": "R5IXYfc9XjvW"
      }
    },
    {
      "cell_type": "code",
      "source": [
        "# we are keeping everything in a dictionary!\n",
        "\n",
        "prop = {}"
      ],
      "metadata": {
        "id": "_S03yj9hWkEv"
      },
      "execution_count": 11,
      "outputs": []
    },
    {
      "cell_type": "markdown",
      "source": [
        "To calculate the proportions, we will be using the value_counts() and sum() functions on our pandas dataframes. Through this we will be able to quickly calculate (birds @ coffee)/total\n",
        "\n",
        "To narrow down our search to just one column in the df, we can use the basic formula:\n",
        "\n",
        "\n",
        " **df.column_name.value_counts()**"
      ],
      "metadata": {
        "id": "fsu5y0x0Arka"
      }
    },
    {
      "cell_type": "code",
      "source": [
        "# Calculate (Coffee/ SUM) for the birds_char2010 variable below\n",
        "prop['CofProp2010'] =                 # hint - we are interested in the Habitat column"
      ],
      "metadata": {
        "id": "cwpV4HgoTsv0",
        "colab": {
          "base_uri": "https://localhost:8080/"
        },
        "outputId": "3f09b025-648c-4588-caa5-979ba6c4af81"
      },
      "execution_count": 22,
      "outputs": [
        {
          "output_type": "execute_result",
          "data": {
            "text/plain": [
              "np.float64(0.3960526315789474)"
            ]
          },
          "metadata": {},
          "execution_count": 22
        }
      ]
    },
    {
      "cell_type": "markdown",
      "source": [
        "##### Again, for efficiency, the other 4 years are pre-coded below:"
      ],
      "metadata": {
        "id": "t-2Xkbd7CK5P"
      }
    },
    {
      "cell_type": "markdown",
      "source": [
        "```\n",
        "prop['CofProp2011']  = bird_char2011.Habitat.value_counts()['COFFEE']/bird_char2011.Habitat.value_counts().sum()\n",
        "prop['CofProp2012'] = bird_char2012.Habitat.value_counts()['COFFEE']/(bird_char2012.Habitat.value_counts().sum())\n",
        "prop['CofProp2013'] =  bird_char2013.Habitat.value_counts()['COFFEE']/(bird_char2013.Habitat.value_counts().sum())\n",
        "prop['CofProp2014'] = bird_char2014.Habitat.value_counts()['COFFEE']/(bird_char2014.Habitat.value_counts().sum())\n",
        "\n",
        "```"
      ],
      "metadata": {
        "id": "43ebbpk-CWmj"
      }
    },
    {
      "cell_type": "code",
      "source": [
        "# Enter remaining years below:\n",
        "\n",
        "prop['CofProp2011'] = bird_char2011.Habitat.value_counts()['COFFEE']/bird_char2011.Habitat.value_counts().sum()\n",
        "prop['CofProp2012'] = bird_char2012.Habitat.value_counts()['COFFEE']/(bird_char2012.Habitat.value_counts().sum())\n",
        "prop['CofProp2013'] = bird_char2013.Habitat.value_counts()['COFFEE']/(bird_char2013.Habitat.value_counts().sum())\n",
        "prop['CofProp2014'] = bird_char2014.Habitat.value_counts()['COFFEE']/(bird_char2014.Habitat.value_counts().sum())"
      ],
      "metadata": {
        "id": "H9Jfx33yPCc9"
      },
      "execution_count": 23,
      "outputs": []
    },
    {
      "cell_type": "markdown",
      "source": [
        "##### Now, we want to create the same variables as above, but we want to account for age:"
      ],
      "metadata": {
        "id": "vuoWMeIJgAeq"
      }
    },
    {
      "cell_type": "markdown",
      "source": [
        "Since we now want to seperate by both the AGE & Habitat columns, the .value_counts() feature is written slightly differently. Instead, the basic formula is:\n",
        "\n",
        "**df[ ['columnA', 'columnB', ...] ].value_counts()**"
      ],
      "metadata": {
        "id": "OGIgFWf5Cy_2"
      }
    },
    {
      "cell_type": "code",
      "source": [
        "# Enter Code Below\n",
        "bird2010_Cof =                  # we want to consider both the Habitat & Age\n",
        "bird2010_AGE =                  # we only are interested in the AGE column"
      ],
      "metadata": {
        "id": "FvwtSCvJgCY2"
      },
      "execution_count": 24,
      "outputs": []
    },
    {
      "cell_type": "code",
      "source": [
        "prop['JuvCofProp2010'] = bird2010_Cof[2]/bird2010_AGE[2]\n",
        "prop['ImmCofProp2010'] = bird2010_Cof[3]/bird2010_AGE[3]\n",
        "prop['AdCofProp2010'] = bird2010_Cof[4]/bird2010_AGE[4]"
      ],
      "metadata": {
        "id": "qlcal3Zrf_fi"
      },
      "execution_count": 25,
      "outputs": []
    },
    {
      "cell_type": "markdown",
      "source": [
        "###### Once again, the code for 2011 - 2014 is pre-written below:\n",
        "\n",
        "---\n",
        "\n"
      ],
      "metadata": {
        "id": "kkUDgCdshUKY"
      }
    },
    {
      "cell_type": "code",
      "source": [
        "bird2011_Cof = bird_char2011[['Habitat', 'AGE']].value_counts()['COFFEE']\n",
        "bird2011_AGE = bird_char2011.AGE.value_counts()\n",
        "\n",
        "bird2012_Cof = bird_char2012[['Habitat', 'AGE']].value_counts()['COFFEE']\n",
        "bird2012_AGE = bird_char2012.AGE.value_counts()\n",
        "\n",
        "bird2013_Cof = bird_char2013[['Habitat', 'AGE']].value_counts()['COFFEE']\n",
        "bird2013_AGE = bird_char2013.AGE.value_counts()\n",
        "\n",
        "bird2014_Cof = bird_char2014[['Habitat', 'AGE']].value_counts()['COFFEE']\n",
        "bird2014_AGE = bird_char2014.AGE.value_counts()"
      ],
      "metadata": {
        "id": "7fsA9iaVhS1i"
      },
      "execution_count": 26,
      "outputs": []
    },
    {
      "cell_type": "code",
      "source": [
        "prop['JuvCofProp2011'] = bird2011_Cof[2]/bird2011_AGE[2]\n",
        "prop['ImmCofProp2011'] = bird2011_Cof[3]/bird2011_AGE[3]\n",
        "prop['AdCofProp2011'] = bird2011_Cof[4]/bird2011_AGE[4]\n",
        "\n",
        "prop['JuvCofProp2012'] = bird2012_Cof[2]/bird2012_AGE[2]\n",
        "prop['ImmCofProp2012'] = bird2012_Cof[3]/bird2012_AGE[3]\n",
        "prop['AdCofProp2012'] = bird2012_Cof[4]/bird2012_AGE[4]\n",
        "\n",
        "prop['JuvCofProp2013'] = bird2013_Cof[2]/bird2013_AGE[2]\n",
        "prop['ImmCofProp2013'] = bird2013_Cof[3]/bird2013_AGE[3]\n",
        "prop['AdCofProp2013'] = bird2013_Cof[4]/bird2013_AGE[4]\n",
        "\n",
        "prop['JuvCofProp2014'] = bird2014_Cof[2]/bird2014_AGE[2]\n",
        "prop['ImmCofProp2014'] =  bird2014_Cof[3]/bird2014_AGE[3]\n",
        "prop['AdCofProp2014'] =  bird2014_Cof[4]/bird2014_AGE[4]"
      ],
      "metadata": {
        "id": "Akk04P2cWhZI"
      },
      "execution_count": 27,
      "outputs": []
    },
    {
      "cell_type": "markdown",
      "source": [
        "#### Plotting the Calculations From Above:"
      ],
      "metadata": {
        "id": "MOowxoDgj9Du"
      }
    },
    {
      "cell_type": "markdown",
      "source": [
        "From Here, Our Next Goal is to Plot the Calculations above on a scatter plot to better understand how birds are interacting with Shade Coffee environments relative to their age and over time. After creating the plot, we will plot a line of best fit."
      ],
      "metadata": {
        "id": "xTvUNobUkWjN"
      }
    },
    {
      "cell_type": "markdown",
      "source": [
        "Our first step is to create a new Pandas data frame. To achieve this feat, we will be using a dictionary where the key represents the column, and the corresponding values are the items in each row:\n",
        "\n",
        "The basic code to do this is as follows:\n",
        "\n",
        "\n",
        "\n",
        "```\n",
        "data = {'columnA': [a, b, c], 'columnB': [1, 2, 3], 'columnC': [x, y, z]}\n",
        "\n",
        "df = pd.DataFrame(data)\n",
        "```\n",
        "\n",
        "**It is important to note, all keys in the dictionary must have the same number of corresponding values. Otherwise, it will not work.\n",
        "\n",
        "ie. `data = {'A': [a], 'B': [1, 2]}` will produce an error"
      ],
      "metadata": {
        "id": "3ay2BIW_RKra"
      }
    },
    {
      "cell_type": "code",
      "source": [
        "# Step 1: create new pandas data frame\n",
        "\n",
        "# For our data frame, we want three columns: Year, Age, & C/T (birds @ coffee / total birds)\n",
        "\n",
        "data = {'Year':[], 'Age':[], 'C/T': []}\n",
        "\n",
        "'''to efficiently do this, we will utilize three seperate for-loops to add the desired values / variables\n",
        "to our dictionary.\n",
        "'''\n",
        "\n",
        "# see how the for-loop below turns what would be 20 lines into 3!\n",
        "for i in range(0,20):\n",
        "  x = '201' + str(i//4) # // represents integer division and rounds down (ie. 3//4 = 0, 6//4 = 1) | str(int) converts an int to a string\n",
        "  data['Year'].append(int(x)) # int(x) will convert the string '201y' back to an int\n",
        "\n",
        "for i in range(0,5):\n",
        "  data['Age'].append('All Birds')\n",
        "  data['Age'].append('Juvenile')\n",
        "  data['Age'].append('Immature')\n",
        "  data['Age'].append('Adult')\n",
        "\n",
        "\n",
        "''' This is why we made a dictionary instead!! Now we can use a for-loop and write 5 lines\n",
        "instead of 20—so much more efficient. If we had tried doing the same approach with variables, we\n",
        "would not be able to do \\'CofProp201' + str(i)  since we do not have an easy way to convert a string\n",
        "to a variable name like str(x) and int(x).'''\n",
        "\n",
        "for i in range(0,5):\n",
        "  data['C/T'].append(prop['CofProp201' + str(i)])\n",
        "  data['C/T'].append(prop['JuvCofProp201' + str(i)])\n",
        "  data['C/T'].append(prop['ImmCofProp201' + str(i)])\n",
        "  data['C/T'].append(prop['AdCofProp201' + str(i)])\n",
        "\n",
        "CoffeeProp = pd.DataFrame(data)\n",
        "CoffeeProp"
      ],
      "metadata": {
        "colab": {
          "base_uri": "https://localhost:8080/",
          "height": 677
        },
        "id": "hiLYSjVTzDsM",
        "outputId": "d4193ddd-0e5c-4f29-c4b5-28647980a8f3"
      },
      "execution_count": null,
      "outputs": [
        {
          "output_type": "execute_result",
          "data": {
            "text/plain": [
              "    Year        Age       C/T\n",
              "0   2010  All Birds  0.396053\n",
              "1   2010   Juvenile  0.666667\n",
              "2   2010   Immature  0.537415\n",
              "3   2010      Adult  0.408867\n",
              "4   2011  All Birds  0.283266\n",
              "5   2011   Juvenile  0.177778\n",
              "6   2011   Immature  0.308333\n",
              "7   2011      Adult  0.332068\n",
              "8   2012  All Birds  0.310502\n",
              "9   2012   Juvenile  0.125000\n",
              "10  2012   Immature  0.324201\n",
              "11  2012      Adult  0.345912\n",
              "12  2013  All Birds  0.488189\n",
              "13  2013   Juvenile  0.350000\n",
              "14  2013   Immature  0.572687\n",
              "15  2013      Adult  0.487666\n",
              "16  2014  All Birds  0.455331\n",
              "17  2014   Juvenile  0.619048\n",
              "18  2014   Immature  0.475806\n",
              "19  2014      Adult  0.489209"
            ],
            "text/html": [
              "\n",
              "  <div id=\"df-e49f2179-3c1a-47bd-bea3-16135de7269c\" class=\"colab-df-container\">\n",
              "    <div>\n",
              "<style scoped>\n",
              "    .dataframe tbody tr th:only-of-type {\n",
              "        vertical-align: middle;\n",
              "    }\n",
              "\n",
              "    .dataframe tbody tr th {\n",
              "        vertical-align: top;\n",
              "    }\n",
              "\n",
              "    .dataframe thead th {\n",
              "        text-align: right;\n",
              "    }\n",
              "</style>\n",
              "<table border=\"1\" class=\"dataframe\">\n",
              "  <thead>\n",
              "    <tr style=\"text-align: right;\">\n",
              "      <th></th>\n",
              "      <th>Year</th>\n",
              "      <th>Age</th>\n",
              "      <th>C/T</th>\n",
              "    </tr>\n",
              "  </thead>\n",
              "  <tbody>\n",
              "    <tr>\n",
              "      <th>0</th>\n",
              "      <td>2010</td>\n",
              "      <td>All Birds</td>\n",
              "      <td>0.396053</td>\n",
              "    </tr>\n",
              "    <tr>\n",
              "      <th>1</th>\n",
              "      <td>2010</td>\n",
              "      <td>Juvenile</td>\n",
              "      <td>0.666667</td>\n",
              "    </tr>\n",
              "    <tr>\n",
              "      <th>2</th>\n",
              "      <td>2010</td>\n",
              "      <td>Immature</td>\n",
              "      <td>0.537415</td>\n",
              "    </tr>\n",
              "    <tr>\n",
              "      <th>3</th>\n",
              "      <td>2010</td>\n",
              "      <td>Adult</td>\n",
              "      <td>0.408867</td>\n",
              "    </tr>\n",
              "    <tr>\n",
              "      <th>4</th>\n",
              "      <td>2011</td>\n",
              "      <td>All Birds</td>\n",
              "      <td>0.283266</td>\n",
              "    </tr>\n",
              "    <tr>\n",
              "      <th>5</th>\n",
              "      <td>2011</td>\n",
              "      <td>Juvenile</td>\n",
              "      <td>0.177778</td>\n",
              "    </tr>\n",
              "    <tr>\n",
              "      <th>6</th>\n",
              "      <td>2011</td>\n",
              "      <td>Immature</td>\n",
              "      <td>0.308333</td>\n",
              "    </tr>\n",
              "    <tr>\n",
              "      <th>7</th>\n",
              "      <td>2011</td>\n",
              "      <td>Adult</td>\n",
              "      <td>0.332068</td>\n",
              "    </tr>\n",
              "    <tr>\n",
              "      <th>8</th>\n",
              "      <td>2012</td>\n",
              "      <td>All Birds</td>\n",
              "      <td>0.310502</td>\n",
              "    </tr>\n",
              "    <tr>\n",
              "      <th>9</th>\n",
              "      <td>2012</td>\n",
              "      <td>Juvenile</td>\n",
              "      <td>0.125000</td>\n",
              "    </tr>\n",
              "    <tr>\n",
              "      <th>10</th>\n",
              "      <td>2012</td>\n",
              "      <td>Immature</td>\n",
              "      <td>0.324201</td>\n",
              "    </tr>\n",
              "    <tr>\n",
              "      <th>11</th>\n",
              "      <td>2012</td>\n",
              "      <td>Adult</td>\n",
              "      <td>0.345912</td>\n",
              "    </tr>\n",
              "    <tr>\n",
              "      <th>12</th>\n",
              "      <td>2013</td>\n",
              "      <td>All Birds</td>\n",
              "      <td>0.488189</td>\n",
              "    </tr>\n",
              "    <tr>\n",
              "      <th>13</th>\n",
              "      <td>2013</td>\n",
              "      <td>Juvenile</td>\n",
              "      <td>0.350000</td>\n",
              "    </tr>\n",
              "    <tr>\n",
              "      <th>14</th>\n",
              "      <td>2013</td>\n",
              "      <td>Immature</td>\n",
              "      <td>0.572687</td>\n",
              "    </tr>\n",
              "    <tr>\n",
              "      <th>15</th>\n",
              "      <td>2013</td>\n",
              "      <td>Adult</td>\n",
              "      <td>0.487666</td>\n",
              "    </tr>\n",
              "    <tr>\n",
              "      <th>16</th>\n",
              "      <td>2014</td>\n",
              "      <td>All Birds</td>\n",
              "      <td>0.455331</td>\n",
              "    </tr>\n",
              "    <tr>\n",
              "      <th>17</th>\n",
              "      <td>2014</td>\n",
              "      <td>Juvenile</td>\n",
              "      <td>0.619048</td>\n",
              "    </tr>\n",
              "    <tr>\n",
              "      <th>18</th>\n",
              "      <td>2014</td>\n",
              "      <td>Immature</td>\n",
              "      <td>0.475806</td>\n",
              "    </tr>\n",
              "    <tr>\n",
              "      <th>19</th>\n",
              "      <td>2014</td>\n",
              "      <td>Adult</td>\n",
              "      <td>0.489209</td>\n",
              "    </tr>\n",
              "  </tbody>\n",
              "</table>\n",
              "</div>\n",
              "    <div class=\"colab-df-buttons\">\n",
              "\n",
              "  <div class=\"colab-df-container\">\n",
              "    <button class=\"colab-df-convert\" onclick=\"convertToInteractive('df-e49f2179-3c1a-47bd-bea3-16135de7269c')\"\n",
              "            title=\"Convert this dataframe to an interactive table.\"\n",
              "            style=\"display:none;\">\n",
              "\n",
              "  <svg xmlns=\"http://www.w3.org/2000/svg\" height=\"24px\" viewBox=\"0 -960 960 960\">\n",
              "    <path d=\"M120-120v-720h720v720H120Zm60-500h600v-160H180v160Zm220 220h160v-160H400v160Zm0 220h160v-160H400v160ZM180-400h160v-160H180v160Zm440 0h160v-160H620v160ZM180-180h160v-160H180v160Zm440 0h160v-160H620v160Z\"/>\n",
              "  </svg>\n",
              "    </button>\n",
              "\n",
              "  <style>\n",
              "    .colab-df-container {\n",
              "      display:flex;\n",
              "      gap: 12px;\n",
              "    }\n",
              "\n",
              "    .colab-df-convert {\n",
              "      background-color: #E8F0FE;\n",
              "      border: none;\n",
              "      border-radius: 50%;\n",
              "      cursor: pointer;\n",
              "      display: none;\n",
              "      fill: #1967D2;\n",
              "      height: 32px;\n",
              "      padding: 0 0 0 0;\n",
              "      width: 32px;\n",
              "    }\n",
              "\n",
              "    .colab-df-convert:hover {\n",
              "      background-color: #E2EBFA;\n",
              "      box-shadow: 0px 1px 2px rgba(60, 64, 67, 0.3), 0px 1px 3px 1px rgba(60, 64, 67, 0.15);\n",
              "      fill: #174EA6;\n",
              "    }\n",
              "\n",
              "    .colab-df-buttons div {\n",
              "      margin-bottom: 4px;\n",
              "    }\n",
              "\n",
              "    [theme=dark] .colab-df-convert {\n",
              "      background-color: #3B4455;\n",
              "      fill: #D2E3FC;\n",
              "    }\n",
              "\n",
              "    [theme=dark] .colab-df-convert:hover {\n",
              "      background-color: #434B5C;\n",
              "      box-shadow: 0px 1px 3px 1px rgba(0, 0, 0, 0.15);\n",
              "      filter: drop-shadow(0px 1px 2px rgba(0, 0, 0, 0.3));\n",
              "      fill: #FFFFFF;\n",
              "    }\n",
              "  </style>\n",
              "\n",
              "    <script>\n",
              "      const buttonEl =\n",
              "        document.querySelector('#df-e49f2179-3c1a-47bd-bea3-16135de7269c button.colab-df-convert');\n",
              "      buttonEl.style.display =\n",
              "        google.colab.kernel.accessAllowed ? 'block' : 'none';\n",
              "\n",
              "      async function convertToInteractive(key) {\n",
              "        const element = document.querySelector('#df-e49f2179-3c1a-47bd-bea3-16135de7269c');\n",
              "        const dataTable =\n",
              "          await google.colab.kernel.invokeFunction('convertToInteractive',\n",
              "                                                    [key], {});\n",
              "        if (!dataTable) return;\n",
              "\n",
              "        const docLinkHtml = 'Like what you see? Visit the ' +\n",
              "          '<a target=\"_blank\" href=https://colab.research.google.com/notebooks/data_table.ipynb>data table notebook</a>'\n",
              "          + ' to learn more about interactive tables.';\n",
              "        element.innerHTML = '';\n",
              "        dataTable['output_type'] = 'display_data';\n",
              "        await google.colab.output.renderOutput(dataTable, element);\n",
              "        const docLink = document.createElement('div');\n",
              "        docLink.innerHTML = docLinkHtml;\n",
              "        element.appendChild(docLink);\n",
              "      }\n",
              "    </script>\n",
              "  </div>\n",
              "\n",
              "\n",
              "    <div id=\"df-c43c8f7a-a548-4fcf-af4b-87928c1daa0d\">\n",
              "      <button class=\"colab-df-quickchart\" onclick=\"quickchart('df-c43c8f7a-a548-4fcf-af4b-87928c1daa0d')\"\n",
              "                title=\"Suggest charts\"\n",
              "                style=\"display:none;\">\n",
              "\n",
              "<svg xmlns=\"http://www.w3.org/2000/svg\" height=\"24px\"viewBox=\"0 0 24 24\"\n",
              "     width=\"24px\">\n",
              "    <g>\n",
              "        <path d=\"M19 3H5c-1.1 0-2 .9-2 2v14c0 1.1.9 2 2 2h14c1.1 0 2-.9 2-2V5c0-1.1-.9-2-2-2zM9 17H7v-7h2v7zm4 0h-2V7h2v10zm4 0h-2v-4h2v4z\"/>\n",
              "    </g>\n",
              "</svg>\n",
              "      </button>\n",
              "\n",
              "<style>\n",
              "  .colab-df-quickchart {\n",
              "      --bg-color: #E8F0FE;\n",
              "      --fill-color: #1967D2;\n",
              "      --hover-bg-color: #E2EBFA;\n",
              "      --hover-fill-color: #174EA6;\n",
              "      --disabled-fill-color: #AAA;\n",
              "      --disabled-bg-color: #DDD;\n",
              "  }\n",
              "\n",
              "  [theme=dark] .colab-df-quickchart {\n",
              "      --bg-color: #3B4455;\n",
              "      --fill-color: #D2E3FC;\n",
              "      --hover-bg-color: #434B5C;\n",
              "      --hover-fill-color: #FFFFFF;\n",
              "      --disabled-bg-color: #3B4455;\n",
              "      --disabled-fill-color: #666;\n",
              "  }\n",
              "\n",
              "  .colab-df-quickchart {\n",
              "    background-color: var(--bg-color);\n",
              "    border: none;\n",
              "    border-radius: 50%;\n",
              "    cursor: pointer;\n",
              "    display: none;\n",
              "    fill: var(--fill-color);\n",
              "    height: 32px;\n",
              "    padding: 0;\n",
              "    width: 32px;\n",
              "  }\n",
              "\n",
              "  .colab-df-quickchart:hover {\n",
              "    background-color: var(--hover-bg-color);\n",
              "    box-shadow: 0 1px 2px rgba(60, 64, 67, 0.3), 0 1px 3px 1px rgba(60, 64, 67, 0.15);\n",
              "    fill: var(--button-hover-fill-color);\n",
              "  }\n",
              "\n",
              "  .colab-df-quickchart-complete:disabled,\n",
              "  .colab-df-quickchart-complete:disabled:hover {\n",
              "    background-color: var(--disabled-bg-color);\n",
              "    fill: var(--disabled-fill-color);\n",
              "    box-shadow: none;\n",
              "  }\n",
              "\n",
              "  .colab-df-spinner {\n",
              "    border: 2px solid var(--fill-color);\n",
              "    border-color: transparent;\n",
              "    border-bottom-color: var(--fill-color);\n",
              "    animation:\n",
              "      spin 1s steps(1) infinite;\n",
              "  }\n",
              "\n",
              "  @keyframes spin {\n",
              "    0% {\n",
              "      border-color: transparent;\n",
              "      border-bottom-color: var(--fill-color);\n",
              "      border-left-color: var(--fill-color);\n",
              "    }\n",
              "    20% {\n",
              "      border-color: transparent;\n",
              "      border-left-color: var(--fill-color);\n",
              "      border-top-color: var(--fill-color);\n",
              "    }\n",
              "    30% {\n",
              "      border-color: transparent;\n",
              "      border-left-color: var(--fill-color);\n",
              "      border-top-color: var(--fill-color);\n",
              "      border-right-color: var(--fill-color);\n",
              "    }\n",
              "    40% {\n",
              "      border-color: transparent;\n",
              "      border-right-color: var(--fill-color);\n",
              "      border-top-color: var(--fill-color);\n",
              "    }\n",
              "    60% {\n",
              "      border-color: transparent;\n",
              "      border-right-color: var(--fill-color);\n",
              "    }\n",
              "    80% {\n",
              "      border-color: transparent;\n",
              "      border-right-color: var(--fill-color);\n",
              "      border-bottom-color: var(--fill-color);\n",
              "    }\n",
              "    90% {\n",
              "      border-color: transparent;\n",
              "      border-bottom-color: var(--fill-color);\n",
              "    }\n",
              "  }\n",
              "</style>\n",
              "\n",
              "      <script>\n",
              "        async function quickchart(key) {\n",
              "          const quickchartButtonEl =\n",
              "            document.querySelector('#' + key + ' button');\n",
              "          quickchartButtonEl.disabled = true;  // To prevent multiple clicks.\n",
              "          quickchartButtonEl.classList.add('colab-df-spinner');\n",
              "          try {\n",
              "            const charts = await google.colab.kernel.invokeFunction(\n",
              "                'suggestCharts', [key], {});\n",
              "          } catch (error) {\n",
              "            console.error('Error during call to suggestCharts:', error);\n",
              "          }\n",
              "          quickchartButtonEl.classList.remove('colab-df-spinner');\n",
              "          quickchartButtonEl.classList.add('colab-df-quickchart-complete');\n",
              "        }\n",
              "        (() => {\n",
              "          let quickchartButtonEl =\n",
              "            document.querySelector('#df-c43c8f7a-a548-4fcf-af4b-87928c1daa0d button');\n",
              "          quickchartButtonEl.style.display =\n",
              "            google.colab.kernel.accessAllowed ? 'block' : 'none';\n",
              "        })();\n",
              "      </script>\n",
              "    </div>\n",
              "\n",
              "  <div id=\"id_7a85d897-0bfc-48b9-adce-fe3e4cd3aeb8\">\n",
              "    <style>\n",
              "      .colab-df-generate {\n",
              "        background-color: #E8F0FE;\n",
              "        border: none;\n",
              "        border-radius: 50%;\n",
              "        cursor: pointer;\n",
              "        display: none;\n",
              "        fill: #1967D2;\n",
              "        height: 32px;\n",
              "        padding: 0 0 0 0;\n",
              "        width: 32px;\n",
              "      }\n",
              "\n",
              "      .colab-df-generate:hover {\n",
              "        background-color: #E2EBFA;\n",
              "        box-shadow: 0px 1px 2px rgba(60, 64, 67, 0.3), 0px 1px 3px 1px rgba(60, 64, 67, 0.15);\n",
              "        fill: #174EA6;\n",
              "      }\n",
              "\n",
              "      [theme=dark] .colab-df-generate {\n",
              "        background-color: #3B4455;\n",
              "        fill: #D2E3FC;\n",
              "      }\n",
              "\n",
              "      [theme=dark] .colab-df-generate:hover {\n",
              "        background-color: #434B5C;\n",
              "        box-shadow: 0px 1px 3px 1px rgba(0, 0, 0, 0.15);\n",
              "        filter: drop-shadow(0px 1px 2px rgba(0, 0, 0, 0.3));\n",
              "        fill: #FFFFFF;\n",
              "      }\n",
              "    </style>\n",
              "    <button class=\"colab-df-generate\" onclick=\"generateWithVariable('CoffeeProp')\"\n",
              "            title=\"Generate code using this dataframe.\"\n",
              "            style=\"display:none;\">\n",
              "\n",
              "  <svg xmlns=\"http://www.w3.org/2000/svg\" height=\"24px\"viewBox=\"0 0 24 24\"\n",
              "       width=\"24px\">\n",
              "    <path d=\"M7,19H8.4L18.45,9,17,7.55,7,17.6ZM5,21V16.75L18.45,3.32a2,2,0,0,1,2.83,0l1.4,1.43a1.91,1.91,0,0,1,.58,1.4,1.91,1.91,0,0,1-.58,1.4L9.25,21ZM18.45,9,17,7.55Zm-12,3A5.31,5.31,0,0,0,4.9,8.1,5.31,5.31,0,0,0,1,6.5,5.31,5.31,0,0,0,4.9,4.9,5.31,5.31,0,0,0,6.5,1,5.31,5.31,0,0,0,8.1,4.9,5.31,5.31,0,0,0,12,6.5,5.46,5.46,0,0,0,6.5,12Z\"/>\n",
              "  </svg>\n",
              "    </button>\n",
              "    <script>\n",
              "      (() => {\n",
              "      const buttonEl =\n",
              "        document.querySelector('#id_7a85d897-0bfc-48b9-adce-fe3e4cd3aeb8 button.colab-df-generate');\n",
              "      buttonEl.style.display =\n",
              "        google.colab.kernel.accessAllowed ? 'block' : 'none';\n",
              "\n",
              "      buttonEl.onclick = () => {\n",
              "        google.colab.notebook.generateWithVariable('CoffeeProp');\n",
              "      }\n",
              "      })();\n",
              "    </script>\n",
              "  </div>\n",
              "\n",
              "    </div>\n",
              "  </div>\n"
            ],
            "application/vnd.google.colaboratory.intrinsic+json": {
              "type": "dataframe",
              "variable_name": "CoffeeProp",
              "summary": "{\n  \"name\": \"CoffeeProp\",\n  \"rows\": 20,\n  \"fields\": [\n    {\n      \"column\": \"Year\",\n      \"properties\": {\n        \"dtype\": \"number\",\n        \"std\": 1,\n        \"min\": 2010,\n        \"max\": 2014,\n        \"num_unique_values\": 5,\n        \"samples\": [\n          2011,\n          2014,\n          2012\n        ],\n        \"semantic_type\": \"\",\n        \"description\": \"\"\n      }\n    },\n    {\n      \"column\": \"Age\",\n      \"properties\": {\n        \"dtype\": \"category\",\n        \"num_unique_values\": 4,\n        \"samples\": [\n          \"Juvenile\",\n          \"Adult\",\n          \"All Birds\"\n        ],\n        \"semantic_type\": \"\",\n        \"description\": \"\"\n      }\n    },\n    {\n      \"column\": \"C/T\",\n      \"properties\": {\n        \"dtype\": \"number\",\n        \"std\": 0.13950419910738335,\n        \"min\": 0.125,\n        \"max\": 0.6666666666666666,\n        \"num_unique_values\": 20,\n        \"samples\": [\n          0.3960526315789474,\n          0.6190476190476191,\n          0.4876660341555977\n        ],\n        \"semantic_type\": \"\",\n        \"description\": \"\"\n      }\n    }\n  ]\n}"
            }
          },
          "metadata": {},
          "execution_count": 31
        }
      ]
    },
    {
      "cell_type": "markdown",
      "source": [
        "Let's make a scatter plot of our new data frame! Using the plotly.express pacakge, we can create an easy, interactive plot:\n",
        "\n",
        "\n",
        "\n",
        "```\n",
        "fig = px.scatter(CoffeeProp,\n",
        "                 x='Year', y = 'C/T',\n",
        "                 title='Proportion of Birds Observed in Shade Coffee Habitat', color = 'Age',\n",
        "                 labels = {'C/T': 'Coffee/(Total Bird Count)', 'Age': 'Age of the Bird'}\n",
        "                 )\n",
        "fig.show()\n",
        "```\n",
        "\n",
        "* Notice that to plot multiple variables against each other, we use `color = ` instead of `hue` like we would in the seaborn pacakge.\n",
        "\n",
        "* The labels dictionary allows us to rename pre-existing names on the plot to something else. This allows us to give greater context to our plot."
      ],
      "metadata": {
        "id": "BcAosN9LdjzI"
      }
    },
    {
      "cell_type": "code",
      "source": [
        "#Plot Scatterplot Below:\n"
      ],
      "metadata": {
        "id": "a1W5YaWskXf0"
      },
      "execution_count": null,
      "outputs": []
    },
    {
      "cell_type": "markdown",
      "source": [
        "#### Plotting our Linear Regression Model:"
      ],
      "metadata": {
        "id": "YSY-LXwverrX"
      }
    },
    {
      "cell_type": "markdown",
      "source": [
        "\n",
        "To get a clearer picture of how the proportion of birds residing in shade coffee habitats changed over the five year span, we will use the seaborn package to plot a line of best fit. Specifically, we want to use the `sns.lmplot` function. On top of having the lines of best fit, we will also have error bars, giving us insight into certainty/variability of the data.\n",
        "\n",
        "\n",
        "```\n",
        "#initial setup for seaborn plot\n",
        "sns.set()\n",
        "sns.set_style('whitegrid')\n",
        "\n",
        "ax = sns.lmplot(data = CoffeeProp, y = 'C/T', x = 'Year', hue = 'Age', height = 7, aspect = 2.5)\n",
        "\n",
        "# .set(title = ) function allows there to be a title in the seaborn plot\n",
        "ax.set(title = 'Proportion of Birds Residing in Shade Coffee Habitats Over Time')\n",
        "\n",
        "#Through the set_xticklabels we are able to remove there being any half years (ie. 2010.5)—achieving a cleaner graph\n",
        "ax.set_xticklabels(['',2010,'',2011,'',2012,'',2013,'',2014,''])\n",
        "\n",
        "```\n",
        "\n"
      ],
      "metadata": {
        "id": "3x_PTYJvJfC0"
      }
    },
    {
      "cell_type": "code",
      "source": [
        "# Plot Linear Regression Below:"
      ],
      "metadata": {
        "id": "ZbDmfZR8Zkqj"
      },
      "execution_count": null,
      "outputs": []
    },
    {
      "cell_type": "markdown",
      "source": [
        "### Does the Performance/Growth of Birds Support the Graph Above?\n",
        "\n",
        "From the graph above, we can see a trend that in general, all birds were relatively found increasingly often in Shade Coffee habitats and therefore less in their native tropical forests. When looking at the age breakdown, this remains true for Juvenile, Immature, and Adult birds.\n",
        "\n",
        "Since the number of observations are relatively limited due to only spanning 5 years (2010 - 2014), any outliers or data that could be overly inflated/deflated due to confounding variables has a large potential to skew the results. This can be seen in the large translucent bars surrounding the lines of best fit.\n",
        "\n",
        "To address this, or look more closely at this, we can use the bird characteristics dataset to analyze how the wing chord length and body mass changed. Specifically, we can plot these two quantities for birds in each age group over the same 5 year span and compare how they changed for birds residing in Shade Coffee environments in comparison to those in their native tropical forests (which will act as the control). Additionally, we can look at the breeding habits of birds in each environment to understand how successfully each environment can support life."
      ],
      "metadata": {
        "id": "fRh8UUY2bUZR"
      }
    },
    {
      "cell_type": "code",
      "source": [
        "'''quick reminder of what is in the bird_char variable\n",
        "BM = body mass (grams)\n",
        "we are not using the MUS (muscle) index since it is largely dependent\n",
        "on the bird species and the scale is relatively static (1,2, or 3 w vast majority being 3)\n",
        "'''\n",
        "\n",
        "bird_char"
      ],
      "metadata": {
        "colab": {
          "base_uri": "https://localhost:8080/",
          "height": 424
        },
        "id": "UDeW1sOjmUYj",
        "outputId": "b7b85e9e-f78c-42f4-9ccc-fe2fe331a50e"
      },
      "execution_count": 39,
      "outputs": [
        {
          "output_type": "execute_result",
          "data": {
            "text/plain": [
              "                      Species  Year  Season  Day Habitat  AGE  BRE     PPM  \\\n",
              "8     Basileuterus_rufifrons   2010  SPRING    2  FOREST    3   NO  STATIC   \n",
              "9     Basileuterus_rufifrons   2010  SPRING    3  COFFEE    4  NaN  STATIC   \n",
              "10    Basileuterus_rufifrons   2010  SPRING    3  FOREST    0   NO     NaN   \n",
              "11    Basileuterus_rufifrons   2010  SPRING    4  FOREST    4  NaN  STATIC   \n",
              "12    Basileuterus_rufifrons   2010  SPRING    5  COFFEE    0   NO     NaN   \n",
              "...                       ...   ...     ...  ...     ...  ...  ...     ...   \n",
              "4931          Turdus_flavipes  2014  SUMMER  131  FOREST    3   NO  ACTIVE   \n",
              "4932          Turdus_flavipes  2014  SUMMER  133  FOREST    4  YES  ACTIVE   \n",
              "4933          Turdus_flavipes  2014  SUMMER  134  FOREST    3  YES  STATIC   \n",
              "4934          Turdus_flavipes  2014  SUMMER  134  FOREST    2   NO  ACTIVE   \n",
              "4935          Turdus_flavipes  2014  SUMMER  136  COFFEE    3   NO  STATIC   \n",
              "\n",
              "      MUS    BM     WC  \n",
              "8     2.0  10.3   53.0  \n",
              "9     NaN  11.3   58.0  \n",
              "10    2.0  10.1   54.0  \n",
              "11    3.0  10.8   58.0  \n",
              "12    3.0  10.9   53.0  \n",
              "...   ...   ...    ...  \n",
              "4931  2.0  52.2  108.0  \n",
              "4932  3.0  53.3  114.0  \n",
              "4933  3.0  57.0  109.0  \n",
              "4934  2.0  48.2  105.0  \n",
              "4935  3.0  50.6  105.0  \n",
              "\n",
              "[4112 rows x 11 columns]"
            ],
            "text/html": [
              "\n",
              "  <div id=\"df-c90df2e6-7af8-4c8a-af69-18a21c06c380\" class=\"colab-df-container\">\n",
              "    <div>\n",
              "<style scoped>\n",
              "    .dataframe tbody tr th:only-of-type {\n",
              "        vertical-align: middle;\n",
              "    }\n",
              "\n",
              "    .dataframe tbody tr th {\n",
              "        vertical-align: top;\n",
              "    }\n",
              "\n",
              "    .dataframe thead th {\n",
              "        text-align: right;\n",
              "    }\n",
              "</style>\n",
              "<table border=\"1\" class=\"dataframe\">\n",
              "  <thead>\n",
              "    <tr style=\"text-align: right;\">\n",
              "      <th></th>\n",
              "      <th>Species</th>\n",
              "      <th>Year</th>\n",
              "      <th>Season</th>\n",
              "      <th>Day</th>\n",
              "      <th>Habitat</th>\n",
              "      <th>AGE</th>\n",
              "      <th>BRE</th>\n",
              "      <th>PPM</th>\n",
              "      <th>MUS</th>\n",
              "      <th>BM</th>\n",
              "      <th>WC</th>\n",
              "    </tr>\n",
              "  </thead>\n",
              "  <tbody>\n",
              "    <tr>\n",
              "      <th>8</th>\n",
              "      <td>Basileuterus_rufifrons</td>\n",
              "      <td>2010</td>\n",
              "      <td>SPRING</td>\n",
              "      <td>2</td>\n",
              "      <td>FOREST</td>\n",
              "      <td>3</td>\n",
              "      <td>NO</td>\n",
              "      <td>STATIC</td>\n",
              "      <td>2.0</td>\n",
              "      <td>10.3</td>\n",
              "      <td>53.0</td>\n",
              "    </tr>\n",
              "    <tr>\n",
              "      <th>9</th>\n",
              "      <td>Basileuterus_rufifrons</td>\n",
              "      <td>2010</td>\n",
              "      <td>SPRING</td>\n",
              "      <td>3</td>\n",
              "      <td>COFFEE</td>\n",
              "      <td>4</td>\n",
              "      <td>NaN</td>\n",
              "      <td>STATIC</td>\n",
              "      <td>NaN</td>\n",
              "      <td>11.3</td>\n",
              "      <td>58.0</td>\n",
              "    </tr>\n",
              "    <tr>\n",
              "      <th>10</th>\n",
              "      <td>Basileuterus_rufifrons</td>\n",
              "      <td>2010</td>\n",
              "      <td>SPRING</td>\n",
              "      <td>3</td>\n",
              "      <td>FOREST</td>\n",
              "      <td>0</td>\n",
              "      <td>NO</td>\n",
              "      <td>NaN</td>\n",
              "      <td>2.0</td>\n",
              "      <td>10.1</td>\n",
              "      <td>54.0</td>\n",
              "    </tr>\n",
              "    <tr>\n",
              "      <th>11</th>\n",
              "      <td>Basileuterus_rufifrons</td>\n",
              "      <td>2010</td>\n",
              "      <td>SPRING</td>\n",
              "      <td>4</td>\n",
              "      <td>FOREST</td>\n",
              "      <td>4</td>\n",
              "      <td>NaN</td>\n",
              "      <td>STATIC</td>\n",
              "      <td>3.0</td>\n",
              "      <td>10.8</td>\n",
              "      <td>58.0</td>\n",
              "    </tr>\n",
              "    <tr>\n",
              "      <th>12</th>\n",
              "      <td>Basileuterus_rufifrons</td>\n",
              "      <td>2010</td>\n",
              "      <td>SPRING</td>\n",
              "      <td>5</td>\n",
              "      <td>COFFEE</td>\n",
              "      <td>0</td>\n",
              "      <td>NO</td>\n",
              "      <td>NaN</td>\n",
              "      <td>3.0</td>\n",
              "      <td>10.9</td>\n",
              "      <td>53.0</td>\n",
              "    </tr>\n",
              "    <tr>\n",
              "      <th>...</th>\n",
              "      <td>...</td>\n",
              "      <td>...</td>\n",
              "      <td>...</td>\n",
              "      <td>...</td>\n",
              "      <td>...</td>\n",
              "      <td>...</td>\n",
              "      <td>...</td>\n",
              "      <td>...</td>\n",
              "      <td>...</td>\n",
              "      <td>...</td>\n",
              "      <td>...</td>\n",
              "    </tr>\n",
              "    <tr>\n",
              "      <th>4931</th>\n",
              "      <td>Turdus_flavipes</td>\n",
              "      <td>2014</td>\n",
              "      <td>SUMMER</td>\n",
              "      <td>131</td>\n",
              "      <td>FOREST</td>\n",
              "      <td>3</td>\n",
              "      <td>NO</td>\n",
              "      <td>ACTIVE</td>\n",
              "      <td>2.0</td>\n",
              "      <td>52.2</td>\n",
              "      <td>108.0</td>\n",
              "    </tr>\n",
              "    <tr>\n",
              "      <th>4932</th>\n",
              "      <td>Turdus_flavipes</td>\n",
              "      <td>2014</td>\n",
              "      <td>SUMMER</td>\n",
              "      <td>133</td>\n",
              "      <td>FOREST</td>\n",
              "      <td>4</td>\n",
              "      <td>YES</td>\n",
              "      <td>ACTIVE</td>\n",
              "      <td>3.0</td>\n",
              "      <td>53.3</td>\n",
              "      <td>114.0</td>\n",
              "    </tr>\n",
              "    <tr>\n",
              "      <th>4933</th>\n",
              "      <td>Turdus_flavipes</td>\n",
              "      <td>2014</td>\n",
              "      <td>SUMMER</td>\n",
              "      <td>134</td>\n",
              "      <td>FOREST</td>\n",
              "      <td>3</td>\n",
              "      <td>YES</td>\n",
              "      <td>STATIC</td>\n",
              "      <td>3.0</td>\n",
              "      <td>57.0</td>\n",
              "      <td>109.0</td>\n",
              "    </tr>\n",
              "    <tr>\n",
              "      <th>4934</th>\n",
              "      <td>Turdus_flavipes</td>\n",
              "      <td>2014</td>\n",
              "      <td>SUMMER</td>\n",
              "      <td>134</td>\n",
              "      <td>FOREST</td>\n",
              "      <td>2</td>\n",
              "      <td>NO</td>\n",
              "      <td>ACTIVE</td>\n",
              "      <td>2.0</td>\n",
              "      <td>48.2</td>\n",
              "      <td>105.0</td>\n",
              "    </tr>\n",
              "    <tr>\n",
              "      <th>4935</th>\n",
              "      <td>Turdus_flavipes</td>\n",
              "      <td>2014</td>\n",
              "      <td>SUMMER</td>\n",
              "      <td>136</td>\n",
              "      <td>COFFEE</td>\n",
              "      <td>3</td>\n",
              "      <td>NO</td>\n",
              "      <td>STATIC</td>\n",
              "      <td>3.0</td>\n",
              "      <td>50.6</td>\n",
              "      <td>105.0</td>\n",
              "    </tr>\n",
              "  </tbody>\n",
              "</table>\n",
              "<p>4112 rows × 11 columns</p>\n",
              "</div>\n",
              "    <div class=\"colab-df-buttons\">\n",
              "\n",
              "  <div class=\"colab-df-container\">\n",
              "    <button class=\"colab-df-convert\" onclick=\"convertToInteractive('df-c90df2e6-7af8-4c8a-af69-18a21c06c380')\"\n",
              "            title=\"Convert this dataframe to an interactive table.\"\n",
              "            style=\"display:none;\">\n",
              "\n",
              "  <svg xmlns=\"http://www.w3.org/2000/svg\" height=\"24px\" viewBox=\"0 -960 960 960\">\n",
              "    <path d=\"M120-120v-720h720v720H120Zm60-500h600v-160H180v160Zm220 220h160v-160H400v160Zm0 220h160v-160H400v160ZM180-400h160v-160H180v160Zm440 0h160v-160H620v160ZM180-180h160v-160H180v160Zm440 0h160v-160H620v160Z\"/>\n",
              "  </svg>\n",
              "    </button>\n",
              "\n",
              "  <style>\n",
              "    .colab-df-container {\n",
              "      display:flex;\n",
              "      gap: 12px;\n",
              "    }\n",
              "\n",
              "    .colab-df-convert {\n",
              "      background-color: #E8F0FE;\n",
              "      border: none;\n",
              "      border-radius: 50%;\n",
              "      cursor: pointer;\n",
              "      display: none;\n",
              "      fill: #1967D2;\n",
              "      height: 32px;\n",
              "      padding: 0 0 0 0;\n",
              "      width: 32px;\n",
              "    }\n",
              "\n",
              "    .colab-df-convert:hover {\n",
              "      background-color: #E2EBFA;\n",
              "      box-shadow: 0px 1px 2px rgba(60, 64, 67, 0.3), 0px 1px 3px 1px rgba(60, 64, 67, 0.15);\n",
              "      fill: #174EA6;\n",
              "    }\n",
              "\n",
              "    .colab-df-buttons div {\n",
              "      margin-bottom: 4px;\n",
              "    }\n",
              "\n",
              "    [theme=dark] .colab-df-convert {\n",
              "      background-color: #3B4455;\n",
              "      fill: #D2E3FC;\n",
              "    }\n",
              "\n",
              "    [theme=dark] .colab-df-convert:hover {\n",
              "      background-color: #434B5C;\n",
              "      box-shadow: 0px 1px 3px 1px rgba(0, 0, 0, 0.15);\n",
              "      filter: drop-shadow(0px 1px 2px rgba(0, 0, 0, 0.3));\n",
              "      fill: #FFFFFF;\n",
              "    }\n",
              "  </style>\n",
              "\n",
              "    <script>\n",
              "      const buttonEl =\n",
              "        document.querySelector('#df-c90df2e6-7af8-4c8a-af69-18a21c06c380 button.colab-df-convert');\n",
              "      buttonEl.style.display =\n",
              "        google.colab.kernel.accessAllowed ? 'block' : 'none';\n",
              "\n",
              "      async function convertToInteractive(key) {\n",
              "        const element = document.querySelector('#df-c90df2e6-7af8-4c8a-af69-18a21c06c380');\n",
              "        const dataTable =\n",
              "          await google.colab.kernel.invokeFunction('convertToInteractive',\n",
              "                                                    [key], {});\n",
              "        if (!dataTable) return;\n",
              "\n",
              "        const docLinkHtml = 'Like what you see? Visit the ' +\n",
              "          '<a target=\"_blank\" href=https://colab.research.google.com/notebooks/data_table.ipynb>data table notebook</a>'\n",
              "          + ' to learn more about interactive tables.';\n",
              "        element.innerHTML = '';\n",
              "        dataTable['output_type'] = 'display_data';\n",
              "        await google.colab.output.renderOutput(dataTable, element);\n",
              "        const docLink = document.createElement('div');\n",
              "        docLink.innerHTML = docLinkHtml;\n",
              "        element.appendChild(docLink);\n",
              "      }\n",
              "    </script>\n",
              "  </div>\n",
              "\n",
              "\n",
              "    <div id=\"df-8450b360-9e8c-44d4-a52c-aebb7b6c12cd\">\n",
              "      <button class=\"colab-df-quickchart\" onclick=\"quickchart('df-8450b360-9e8c-44d4-a52c-aebb7b6c12cd')\"\n",
              "                title=\"Suggest charts\"\n",
              "                style=\"display:none;\">\n",
              "\n",
              "<svg xmlns=\"http://www.w3.org/2000/svg\" height=\"24px\"viewBox=\"0 0 24 24\"\n",
              "     width=\"24px\">\n",
              "    <g>\n",
              "        <path d=\"M19 3H5c-1.1 0-2 .9-2 2v14c0 1.1.9 2 2 2h14c1.1 0 2-.9 2-2V5c0-1.1-.9-2-2-2zM9 17H7v-7h2v7zm4 0h-2V7h2v10zm4 0h-2v-4h2v4z\"/>\n",
              "    </g>\n",
              "</svg>\n",
              "      </button>\n",
              "\n",
              "<style>\n",
              "  .colab-df-quickchart {\n",
              "      --bg-color: #E8F0FE;\n",
              "      --fill-color: #1967D2;\n",
              "      --hover-bg-color: #E2EBFA;\n",
              "      --hover-fill-color: #174EA6;\n",
              "      --disabled-fill-color: #AAA;\n",
              "      --disabled-bg-color: #DDD;\n",
              "  }\n",
              "\n",
              "  [theme=dark] .colab-df-quickchart {\n",
              "      --bg-color: #3B4455;\n",
              "      --fill-color: #D2E3FC;\n",
              "      --hover-bg-color: #434B5C;\n",
              "      --hover-fill-color: #FFFFFF;\n",
              "      --disabled-bg-color: #3B4455;\n",
              "      --disabled-fill-color: #666;\n",
              "  }\n",
              "\n",
              "  .colab-df-quickchart {\n",
              "    background-color: var(--bg-color);\n",
              "    border: none;\n",
              "    border-radius: 50%;\n",
              "    cursor: pointer;\n",
              "    display: none;\n",
              "    fill: var(--fill-color);\n",
              "    height: 32px;\n",
              "    padding: 0;\n",
              "    width: 32px;\n",
              "  }\n",
              "\n",
              "  .colab-df-quickchart:hover {\n",
              "    background-color: var(--hover-bg-color);\n",
              "    box-shadow: 0 1px 2px rgba(60, 64, 67, 0.3), 0 1px 3px 1px rgba(60, 64, 67, 0.15);\n",
              "    fill: var(--button-hover-fill-color);\n",
              "  }\n",
              "\n",
              "  .colab-df-quickchart-complete:disabled,\n",
              "  .colab-df-quickchart-complete:disabled:hover {\n",
              "    background-color: var(--disabled-bg-color);\n",
              "    fill: var(--disabled-fill-color);\n",
              "    box-shadow: none;\n",
              "  }\n",
              "\n",
              "  .colab-df-spinner {\n",
              "    border: 2px solid var(--fill-color);\n",
              "    border-color: transparent;\n",
              "    border-bottom-color: var(--fill-color);\n",
              "    animation:\n",
              "      spin 1s steps(1) infinite;\n",
              "  }\n",
              "\n",
              "  @keyframes spin {\n",
              "    0% {\n",
              "      border-color: transparent;\n",
              "      border-bottom-color: var(--fill-color);\n",
              "      border-left-color: var(--fill-color);\n",
              "    }\n",
              "    20% {\n",
              "      border-color: transparent;\n",
              "      border-left-color: var(--fill-color);\n",
              "      border-top-color: var(--fill-color);\n",
              "    }\n",
              "    30% {\n",
              "      border-color: transparent;\n",
              "      border-left-color: var(--fill-color);\n",
              "      border-top-color: var(--fill-color);\n",
              "      border-right-color: var(--fill-color);\n",
              "    }\n",
              "    40% {\n",
              "      border-color: transparent;\n",
              "      border-right-color: var(--fill-color);\n",
              "      border-top-color: var(--fill-color);\n",
              "    }\n",
              "    60% {\n",
              "      border-color: transparent;\n",
              "      border-right-color: var(--fill-color);\n",
              "    }\n",
              "    80% {\n",
              "      border-color: transparent;\n",
              "      border-right-color: var(--fill-color);\n",
              "      border-bottom-color: var(--fill-color);\n",
              "    }\n",
              "    90% {\n",
              "      border-color: transparent;\n",
              "      border-bottom-color: var(--fill-color);\n",
              "    }\n",
              "  }\n",
              "</style>\n",
              "\n",
              "      <script>\n",
              "        async function quickchart(key) {\n",
              "          const quickchartButtonEl =\n",
              "            document.querySelector('#' + key + ' button');\n",
              "          quickchartButtonEl.disabled = true;  // To prevent multiple clicks.\n",
              "          quickchartButtonEl.classList.add('colab-df-spinner');\n",
              "          try {\n",
              "            const charts = await google.colab.kernel.invokeFunction(\n",
              "                'suggestCharts', [key], {});\n",
              "          } catch (error) {\n",
              "            console.error('Error during call to suggestCharts:', error);\n",
              "          }\n",
              "          quickchartButtonEl.classList.remove('colab-df-spinner');\n",
              "          quickchartButtonEl.classList.add('colab-df-quickchart-complete');\n",
              "        }\n",
              "        (() => {\n",
              "          let quickchartButtonEl =\n",
              "            document.querySelector('#df-8450b360-9e8c-44d4-a52c-aebb7b6c12cd button');\n",
              "          quickchartButtonEl.style.display =\n",
              "            google.colab.kernel.accessAllowed ? 'block' : 'none';\n",
              "        })();\n",
              "      </script>\n",
              "    </div>\n",
              "\n",
              "  <div id=\"id_6dade0bb-265c-4526-a284-2697f045788e\">\n",
              "    <style>\n",
              "      .colab-df-generate {\n",
              "        background-color: #E8F0FE;\n",
              "        border: none;\n",
              "        border-radius: 50%;\n",
              "        cursor: pointer;\n",
              "        display: none;\n",
              "        fill: #1967D2;\n",
              "        height: 32px;\n",
              "        padding: 0 0 0 0;\n",
              "        width: 32px;\n",
              "      }\n",
              "\n",
              "      .colab-df-generate:hover {\n",
              "        background-color: #E2EBFA;\n",
              "        box-shadow: 0px 1px 2px rgba(60, 64, 67, 0.3), 0px 1px 3px 1px rgba(60, 64, 67, 0.15);\n",
              "        fill: #174EA6;\n",
              "      }\n",
              "\n",
              "      [theme=dark] .colab-df-generate {\n",
              "        background-color: #3B4455;\n",
              "        fill: #D2E3FC;\n",
              "      }\n",
              "\n",
              "      [theme=dark] .colab-df-generate:hover {\n",
              "        background-color: #434B5C;\n",
              "        box-shadow: 0px 1px 3px 1px rgba(0, 0, 0, 0.15);\n",
              "        filter: drop-shadow(0px 1px 2px rgba(0, 0, 0, 0.3));\n",
              "        fill: #FFFFFF;\n",
              "      }\n",
              "    </style>\n",
              "    <button class=\"colab-df-generate\" onclick=\"generateWithVariable('bird_char')\"\n",
              "            title=\"Generate code using this dataframe.\"\n",
              "            style=\"display:none;\">\n",
              "\n",
              "  <svg xmlns=\"http://www.w3.org/2000/svg\" height=\"24px\"viewBox=\"0 0 24 24\"\n",
              "       width=\"24px\">\n",
              "    <path d=\"M7,19H8.4L18.45,9,17,7.55,7,17.6ZM5,21V16.75L18.45,3.32a2,2,0,0,1,2.83,0l1.4,1.43a1.91,1.91,0,0,1,.58,1.4,1.91,1.91,0,0,1-.58,1.4L9.25,21ZM18.45,9,17,7.55Zm-12,3A5.31,5.31,0,0,0,4.9,8.1,5.31,5.31,0,0,0,1,6.5,5.31,5.31,0,0,0,4.9,4.9,5.31,5.31,0,0,0,6.5,1,5.31,5.31,0,0,0,8.1,4.9,5.31,5.31,0,0,0,12,6.5,5.46,5.46,0,0,0,6.5,12Z\"/>\n",
              "  </svg>\n",
              "    </button>\n",
              "    <script>\n",
              "      (() => {\n",
              "      const buttonEl =\n",
              "        document.querySelector('#id_6dade0bb-265c-4526-a284-2697f045788e button.colab-df-generate');\n",
              "      buttonEl.style.display =\n",
              "        google.colab.kernel.accessAllowed ? 'block' : 'none';\n",
              "\n",
              "      buttonEl.onclick = () => {\n",
              "        google.colab.notebook.generateWithVariable('bird_char');\n",
              "      }\n",
              "      })();\n",
              "    </script>\n",
              "  </div>\n",
              "\n",
              "    </div>\n",
              "  </div>\n"
            ],
            "application/vnd.google.colaboratory.intrinsic+json": {
              "type": "dataframe",
              "variable_name": "bird_char",
              "summary": "{\n  \"name\": \"bird_char\",\n  \"rows\": 4112,\n  \"fields\": [\n    {\n      \"column\": \"Species\",\n      \"properties\": {\n        \"dtype\": \"category\",\n        \"num_unique_values\": 12,\n        \"samples\": [\n          \"Turdus_albicollis \",\n          \"Tangara_gyrola \",\n          \"Basileuterus_rufifrons \"\n        ],\n        \"semantic_type\": \"\",\n        \"description\": \"\"\n      }\n    },\n    {\n      \"column\": \"Year\",\n      \"properties\": {\n        \"dtype\": \"number\",\n        \"std\": 1,\n        \"min\": 2010,\n        \"max\": 2014,\n        \"num_unique_values\": 5,\n        \"samples\": [\n          2011,\n          2014,\n          2012\n        ],\n        \"semantic_type\": \"\",\n        \"description\": \"\"\n      }\n    },\n    {\n      \"column\": \"Season\",\n      \"properties\": {\n        \"dtype\": \"category\",\n        \"num_unique_values\": 3,\n        \"samples\": [\n          \"SPRING\",\n          \"FALL\",\n          \"SUMMER\"\n        ],\n        \"semantic_type\": \"\",\n        \"description\": \"\"\n      }\n    },\n    {\n      \"column\": \"Day\",\n      \"properties\": {\n        \"dtype\": \"number\",\n        \"std\": 68,\n        \"min\": 1,\n        \"max\": 240,\n        \"num_unique_values\": 172,\n        \"samples\": [\n          39,\n          200,\n          207\n        ],\n        \"semantic_type\": \"\",\n        \"description\": \"\"\n      }\n    },\n    {\n      \"column\": \"Habitat\",\n      \"properties\": {\n        \"dtype\": \"category\",\n        \"num_unique_values\": 2,\n        \"samples\": [\n          \"COFFEE\",\n          \"FOREST\"\n        ],\n        \"semantic_type\": \"\",\n        \"description\": \"\"\n      }\n    },\n    {\n      \"column\": \"AGE\",\n      \"properties\": {\n        \"dtype\": \"number\",\n        \"std\": 1,\n        \"min\": 0,\n        \"max\": 4,\n        \"num_unique_values\": 4,\n        \"samples\": [\n          4,\n          2\n        ],\n        \"semantic_type\": \"\",\n        \"description\": \"\"\n      }\n    },\n    {\n      \"column\": \"BRE\",\n      \"properties\": {\n        \"dtype\": \"category\",\n        \"num_unique_values\": 2,\n        \"samples\": [\n          \"YES\",\n          \"NO\"\n        ],\n        \"semantic_type\": \"\",\n        \"description\": \"\"\n      }\n    },\n    {\n      \"column\": \"PPM\",\n      \"properties\": {\n        \"dtype\": \"category\",\n        \"num_unique_values\": 2,\n        \"samples\": [\n          \"ACTIVE\",\n          \"STATIC\"\n        ],\n        \"semantic_type\": \"\",\n        \"description\": \"\"\n      }\n    },\n    {\n      \"column\": \"MUS\",\n      \"properties\": {\n        \"dtype\": \"number\",\n        \"std\": 0.5261712551443838,\n        \"min\": 0.0,\n        \"max\": 3.0,\n        \"num_unique_values\": 4,\n        \"samples\": [\n          3.0,\n          1.0\n        ],\n        \"semantic_type\": \"\",\n        \"description\": \"\"\n      }\n    },\n    {\n      \"column\": \"BM\",\n      \"properties\": {\n        \"dtype\": \"number\",\n        \"std\": 15.678233304985511,\n        \"min\": 6.8,\n        \"max\": 74.7,\n        \"num_unique_values\": 479,\n        \"samples\": [\n          8.7,\n          20.5\n        ],\n        \"semantic_type\": \"\",\n        \"description\": \"\"\n      }\n    },\n    {\n      \"column\": \"WC\",\n      \"properties\": {\n        \"dtype\": \"number\",\n        \"std\": 17.99778894201824,\n        \"min\": 51.0,\n        \"max\": 117.0,\n        \"num_unique_values\": 65,\n        \"samples\": [\n          104.0,\n          114.0\n        ],\n        \"semantic_type\": \"\",\n        \"description\": \"\"\n      }\n    }\n  ]\n}"
            }
          },
          "metadata": {},
          "execution_count": 39
        }
      ]
    },
    {
      "cell_type": "markdown",
      "source": [
        "#### Cleaning the bird_char data\n",
        "\n",
        "First, we need to drop any NA values in the BM or BRE variables. Plus, remove 2009 & 2015 from our data points"
      ],
      "metadata": {
        "id": "gw1gECrxnQ3a"
      }
    },
    {
      "cell_type": "code",
      "source": [
        "#dropping years 2009 & 2015 from the data set\n",
        "\n",
        "bird_charJuv = bird_charJuv.drop(bird_charJuv[bird_charJuv['Year'] == 2009].index)\n",
        "bird_charJuv = bird_charJuv.drop(bird_charJuv[bird_charJuv['Year'] == 2015].index)\n",
        "\n",
        "bird_charImm = bird_charImm.drop(bird_charImm[bird_charImm['Year'] == 2009].index)\n",
        "bird_charImm = bird_charImm.drop(bird_charImm[bird_charImm['Year'] == 2015].index)\n",
        "\n",
        "bird_charAdu = bird_charAdu.drop(bird_charAdu[bird_charAdu['Year'] == 2009].index)\n",
        "bird_charAdu = bird_charAdu.drop(bird_charAdu[bird_charAdu['Year'] == 2015].index)\n",
        "\n",
        "\n",
        "bird_char = bird_char.drop(bird_char[bird_char['Year'] == 2009].index)\n",
        "bird_char = bird_char.drop(bird_char[bird_char['Year'] == 2015].index)"
      ],
      "metadata": {
        "id": "SEvnBSyEci7j"
      },
      "execution_count": 29,
      "outputs": []
    },
    {
      "cell_type": "code",
      "source": [
        "#cleaning data for the BM-focused graph\n",
        "bird_charJuvBM = bird_charJuv\n",
        "\n",
        "# need to ensure we reassign bird_char to the dropna function and since we are only focused on dropping Na values for one column\n",
        "# we need to clarify that in the function using the subset feature\n",
        "bird_charJuvBM = bird_charJuvBM.dropna(subset = ['BM'])\n",
        "\n",
        "bird_charImmBM = bird_charImm\n",
        "bird_charImmBM = bird_charImmBM.dropna(subset = ['BM'])\n",
        "\n",
        "bird_charAdBM = bird_charAdu\n",
        "bird_charAdBM = bird_charAdBM.dropna(subset = ['BM'])\n",
        "\n",
        "bird_char = bird_char.dropna(subset = ['BM'])"
      ],
      "metadata": {
        "id": "UImyF8oJnQNo"
      },
      "execution_count": 32,
      "outputs": []
    },
    {
      "cell_type": "markdown",
      "source": [
        "#### Manipulating bird_charBM data set & further analyzing the Body Mass of birds over time:"
      ],
      "metadata": {
        "id": "MQv69fxDs4Xr"
      }
    },
    {
      "cell_type": "code",
      "source": [
        "''' In order to effectively make our new graph, we once again need to create a new data frame that captures all the data\n",
        "from above in five columns - species, habitat, age, year, and BM. We will again use a dictionary to achieve this\n",
        "'''\n",
        "bodyMassdfJuv = {'Species': [], 'Year': [], 'Habitat': [], 'Age': [], 'BM': []}\n",
        "bodyMassdfImm = {'Species': [], 'Year': [], 'Habitat': [], 'Age': [], 'BM': []}\n",
        "bodyMassdfAd = {'Species': [], 'Year': [], 'Habitat': [], 'Age': [], 'BM': []}\n",
        "\n",
        "\n",
        "# here we are using a for loop again to add data into the dictionaries\n",
        "# we are using the .iloc method to retrieve data from specific rows (and then columns)\n",
        "# in the pandas data frame\n",
        "\n",
        "for i in range(0, len(bird_charJuvBM)):\n",
        "  bodyMassdfJuv['Species'].append(bird_charJuvBM.iloc[i]['Species'])\n",
        "  bodyMassdfJuv['Year'].append(bird_charJuvBM.iloc[i]['Year'])\n",
        "  bodyMassdfJuv['Age'].append('Juvenile')\n",
        "  bodyMassdfJuv['Habitat'].append(bird_charJuvBM.iloc[i]['Habitat'])\n",
        "  bodyMassdfJuv['BM'].append(bird_charJuvBM.iloc[i]['BM'])\n",
        "\n",
        "#immature\n",
        "for i in range(0, len(bird_charImmBM)):\n",
        "  bodyMassdfImm['Species'].append(bird_charImmBM.iloc[i]['Species'])\n",
        "  bodyMassdfImm['Year'].append(bird_charImmBM.iloc[i]['Year'])\n",
        "  bodyMassdfImm['Habitat'].append(bird_charImmBM.iloc[i]['Habitat'])\n",
        "  bodyMassdfImm['Age'].append('Immature')\n",
        "  bodyMassdfImm['BM'].append(bird_charImmBM.iloc[i]['BM'])\n",
        "\n",
        "\n",
        "#adult\n",
        "for i in range(len(bird_charAdBM)):\n",
        "  bodyMassdfAd['Species'].append(bird_charAdBM.iloc[i]['Species'])\n",
        "  bodyMassdfAd['Year'].append(bird_charAdBM.iloc[i]['Year'])\n",
        "  bodyMassdfAd['Age'].append('Adult')\n",
        "  bodyMassdfAd['Habitat'].append(bird_charAdBM.iloc[i]['Habitat'])\n",
        "  bodyMassdfAd['BM'].append(bird_charAdBM.iloc[i]['BM'])\n",
        "\n"
      ],
      "metadata": {
        "id": "30bERoG3VknY"
      },
      "execution_count": 34,
      "outputs": []
    },
    {
      "cell_type": "code",
      "source": [
        "# from here we want to read the data into each respective pd df:\n",
        "\n",
        "df_BMJuv = pd.DataFrame(bodyMassdfJuv)\n",
        "\n",
        "df_BMImm = pd.DataFrame(bodyMassdfImm)\n",
        "\n",
        "df_BMAd = pd.DataFrame(bodyMassdfAd)"
      ],
      "metadata": {
        "id": "ntlUtJFQZlt1"
      },
      "execution_count": 46,
      "outputs": []
    },
    {
      "cell_type": "markdown",
      "source": [
        "#### Let's Plot Our New LR Models, Once again, we are using the lmplot method in the seaborn package:\n",
        "\n",
        "Code for Juvenile Birds:\n",
        "\n",
        "\n",
        "\n",
        "```\n",
        "sns.set()\n",
        "sns.set_style('whitegrid')\n",
        "\n",
        "ax = sns.lmplot(data = df_BMJuv, y = 'BM', x = 'Year', hue = 'Habitat', height = 5, aspect = 2.5)\n",
        "\n",
        "\n",
        "# .set(title = ) function allows there to be a title in the seaborn plot\n",
        "ax.set(title = 'Juvenile Birds\\' BM Over Time')\n",
        "\n",
        "#Through the set_xticklabels we are able to remove there being any half years (ie. 2010.5)—achieving a cleaner graph\n",
        "ax.set_xticklabels(['',2010,'',2011,'',2012,'',2013,'',2014,''])```\n",
        "```\n",
        "\n"
      ],
      "metadata": {
        "id": "CY97T-eEmabu"
      }
    },
    {
      "cell_type": "code",
      "source": [
        "# Plot Juvenile LR Model Below:\n"
      ],
      "metadata": {
        "id": "TBop8MR5my3m"
      },
      "execution_count": null,
      "outputs": []
    },
    {
      "cell_type": "markdown",
      "source": [
        "\n",
        "\n",
        "> As we can see from above, the Juvenile birds both decrease over the 5 year span of data collection. Although there is a large margin of error, the data suggests that juvenile birds in shade coffee environments are decreasing in mass at a faster rate than in their native forests. This opposes the previous graph that the proportion of Juvenile Birds in Shade Coffee Habitats was slowly growing.\n",
        "\n"
      ],
      "metadata": {
        "id": "ubR2XKxtlTFW"
      }
    },
    {
      "cell_type": "markdown",
      "source": [
        "#### Now, Let's Plot our Immature Bird BM Linear Regression Model\n",
        "\n",
        "\n",
        "\n",
        "\n",
        "```\n",
        "sns.set()\n",
        "sns.set_style('whitegrid')\n",
        "\n",
        "ax = sns.lmplot(data = df_BMImm, y = 'BM', x = 'Year', hue = 'Habitat', height = 5, aspect = 2.5)\n",
        "\n",
        "# .set(title = ) function allows there to be a title in the seaborn plot\n",
        "ax.set(title = 'Immature Birds\\' BM Over Time')\n",
        "\n",
        "#Through the set_xticklabels we are able to remove there being any half years (ie. 2010.5)—achieving a cleaner graph\n",
        "ax.set_xticklabels(['',2010,'',2011,'',2012,'',2013,'',2014,''])```\n",
        "\n"
      ],
      "metadata": {
        "id": "U7HAZdR8ndtj"
      }
    },
    {
      "cell_type": "code",
      "source": [
        "# Plot Immature Bird BM LR Model Below:\n"
      ],
      "metadata": {
        "id": "HYgpGF8EenGW"
      },
      "execution_count": null,
      "outputs": []
    },
    {
      "cell_type": "markdown",
      "source": [
        "> Looking at the graph above, the Immature birds both decrease over the 5 year span of data collection. The margin of error is relatively small and the data suggests that immature birds in native tropical forest environments are decreasing at a faster rate than in shade coffee farms. This aligns with the previous graph we created indicating that immature birds were gravitating toward shade coffee environments instead of their native one."
      ],
      "metadata": {
        "id": "leglFwyKm_e7"
      }
    },
    {
      "cell_type": "markdown",
      "source": [
        "#### Analyzing the LR Model of Adult Birds' BM @ Each Environment\n",
        "\n",
        "Code for our plot:\n",
        "\n",
        "\n",
        "\n",
        "```\n",
        "sns.set()\n",
        "sns.set_style('whitegrid')\n",
        "\n",
        "ax = sns.lmplot(data = df_BMAd, y = 'BM', x = 'Year', hue = 'Habitat', height = 7, aspect = 2)\n",
        "\n",
        "# .set(title = ) function allows there to be a title in the seaborn plot\n",
        "ax.set(title = 'Adult Birds\\' BM Over Time')\n",
        "\n",
        "#Through the set_xticklabels we are able to remove there being any half years (ie. 2010.5)—achieving a cleaner graph\n",
        "```\n",
        "\n"
      ],
      "metadata": {
        "id": "q1dFkE--nxOv"
      }
    },
    {
      "cell_type": "code",
      "source": [
        "# Add Code Below:\n"
      ],
      "metadata": {
        "id": "9RM6juXPe05F"
      },
      "execution_count": 89,
      "outputs": []
    },
    {
      "cell_type": "markdown",
      "source": [
        "\n",
        "> The plotted linear regression model for above contrasts the trend shown in Immature & Juvenile birds. Unlike the other two age ranges, the Adult birds actually noticeably increase in mass over the 5 year span for both birds residing in shade coffee and native forest environments. Moreover, not only is the margin of error (translucent bars) much smaller in comparison, but the birds in shade coffee farms are actually increasing in mass at a more substantial rate than birds who are in native forests. If we look at our previous plot (comparing proportions of birds found @ coffee habitat), this trend is supported by that data. In the first plot, not only did adult birds in general appear more often in the coffee farms (relative to native forests), but they also had the greatest slope compared to other bird ages.\n"
      ],
      "metadata": {
        "id": "2zX9SgVifMuw"
      }
    },
    {
      "cell_type": "markdown",
      "source": [
        "\n",
        "\n",
        "---\n",
        "\n"
      ],
      "metadata": {
        "id": "_Ar3YtpQoc8O"
      }
    },
    {
      "cell_type": "markdown",
      "source": [
        "To get a closer look at the data, we can perform a Ordinary Least Squares (OLS) Regression model to get deeper insight into our data. For the sake of time we will be focusing only on adult birds. We are choosing adult birds since their preference is generally concieved as the most important because from a hierarchical perspective, they generally have the ability to displace other birds.\n",
        "\n",
        " We will perform our analysis using the statsmodels.api package."
      ],
      "metadata": {
        "id": "597lY-SNoKw-"
      }
    },
    {
      "cell_type": "markdown",
      "source": [
        "Our first step to do create our OLS model is to seperate the 2 habitat options into their own variables. We can do this by using the drop and index methods.\n",
        "\n",
        "The general formula to use the .drop methods is:\n",
        "\n",
        "```\n",
        "df.drop(list of indices of rows to drop)\n",
        "```\n",
        "\n",
        "Since `df[df[COLUMN] == DESIRED VALUE]` method returns of a list of the rows, we can use .index to get the indices of the rows where the habitat is Forest"
      ],
      "metadata": {
        "id": "im6DfMCOQGCo"
      }
    },
    {
      "cell_type": "code",
      "source": [
        "# Write code below to seperate the Adult BM variable by habitat\n",
        "forAdBM =\n",
        "cofAdBM ="
      ],
      "metadata": {
        "id": "2_WpqkGauXiY"
      },
      "execution_count": 86,
      "outputs": []
    },
    {
      "cell_type": "code",
      "source": [
        "# Now, we can create our OLS model!\n",
        "\n",
        "#defining the IV\n",
        "x = sm.add_constant(forAdBM['Year'])\n",
        "\n",
        "#defining DV\n",
        "y = forAdBM['BM']\n",
        "\n",
        "#Building & fitting our OLS model\n",
        "ols_model = sm.OLS(y, x).fit()\n",
        "\n",
        "# printing our model + adding a centered title (to easily tell which model is model)\n",
        "print(f\"     {'Adult Birds - FOREST:':>46s}\", '\\n', ols_model.summary())\n",
        "\n",
        "\n",
        "# Seperating 2 Models:\n",
        "print('\\n', '-'*77)\n",
        "\n",
        "#Following the same steps, but for the cofAdBM variable:\n",
        "\n",
        "#defining x, y variables\n",
        "x = sm.add_constant(cofAdBM['Year'])\n",
        "y = cofAdBM['BM']\n",
        "\n",
        "#building, fitting, & printing mdoel w title:\n",
        "ols_model = sm.OLS(y, x).fit()\n",
        "print(f\"     {'Adult Birds - COFFEE:':>45s}\", '\\n', ols_model.summary())"
      ],
      "metadata": {
        "colab": {
          "base_uri": "https://localhost:8080/"
        },
        "id": "XojJdDYjpqUG",
        "outputId": "2c5ff6e0-0cbb-4bd2-82e7-ef7b0c930010"
      },
      "execution_count": 88,
      "outputs": [
        {
          "output_type": "stream",
          "name": "stdout",
          "text": [
            "                              Adult Birds - FOREST: \n",
            "                             OLS Regression Results                            \n",
            "==============================================================================\n",
            "Dep. Variable:                     BM   R-squared:                       0.004\n",
            "Model:                            OLS   Adj. R-squared:                  0.003\n",
            "Method:                 Least Squares   F-statistic:                     4.919\n",
            "Date:                Mon, 05 May 2025   Prob (F-statistic):             0.0267\n",
            "Time:                        21:13:21   Log-Likelihood:                -5667.6\n",
            "No. Observations:                1355   AIC:                         1.134e+04\n",
            "Df Residuals:                    1353   BIC:                         1.135e+04\n",
            "Df Model:                           1                                         \n",
            "Covariance Type:            nonrobust                                         \n",
            "==============================================================================\n",
            "                 coef    std err          t      P>|t|      [0.025      0.975]\n",
            "------------------------------------------------------------------------------\n",
            "const      -1431.3660    657.272     -2.178      0.030   -2720.750    -141.982\n",
            "Year           0.7245      0.327      2.218      0.027       0.084       1.365\n",
            "==============================================================================\n",
            "Omnibus:                      494.086   Durbin-Watson:                   0.053\n",
            "Prob(Omnibus):                  0.000   Jarque-Bera (JB):              183.607\n",
            "Skew:                           0.732   Prob(JB):                     1.35e-40\n",
            "Kurtosis:                       1.946   Cond. No.                     3.07e+06\n",
            "==============================================================================\n",
            "\n",
            "Notes:\n",
            "[1] Standard Errors assume that the covariance matrix of the errors is correctly specified.\n",
            "[2] The condition number is large, 3.07e+06. This might indicate that there are\n",
            "strong multicollinearity or other numerical problems.\n",
            "\n",
            " -----------------------------------------------------------------------------\n",
            "                             Adult Birds - COFFEE: \n",
            "                             OLS Regression Results                            \n",
            "==============================================================================\n",
            "Dep. Variable:                     BM   R-squared:                       0.006\n",
            "Model:                            OLS   Adj. R-squared:                  0.005\n",
            "Method:                 Least Squares   F-statistic:                     5.422\n",
            "Date:                Mon, 05 May 2025   Prob (F-statistic):             0.0201\n",
            "Time:                        21:13:21   Log-Likelihood:                -3963.7\n",
            "No. Observations:                 941   AIC:                             7931.\n",
            "Df Residuals:                     939   BIC:                             7941.\n",
            "Df Model:                           1                                         \n",
            "Covariance Type:            nonrobust                                         \n",
            "==============================================================================\n",
            "                 coef    std err          t      P>|t|      [0.025      0.975]\n",
            "------------------------------------------------------------------------------\n",
            "const      -1762.6955    768.128     -2.295      0.022   -3270.141    -255.250\n",
            "Year           0.8889      0.382      2.329      0.020       0.140       1.638\n",
            "==============================================================================\n",
            "Omnibus:                      348.881   Durbin-Watson:                   0.052\n",
            "Prob(Omnibus):                  0.000   Jarque-Bera (JB):              121.686\n",
            "Skew:                           0.701   Prob(JB):                     3.77e-27\n",
            "Kurtosis:                       1.934   Cond. No.                     2.90e+06\n",
            "==============================================================================\n",
            "\n",
            "Notes:\n",
            "[1] Standard Errors assume that the covariance matrix of the errors is correctly specified.\n",
            "[2] The condition number is large, 2.9e+06. This might indicate that there are\n",
            "strong multicollinearity or other numerical problems.\n"
          ]
        }
      ]
    },
    {
      "cell_type": "markdown",
      "source": [
        "## Implications of Analysis:\n",
        "\n"
      ],
      "metadata": {
        "id": "neecgDUFsLlO"
      }
    },
    {
      "cell_type": "markdown",
      "source": [
        "From our analysis, the main takeaways found are that birds may be gravitating toward shade coffee land cover as opposed to their natural habitat. At the same time, the statisitcal analysis is somewhat mixed as to whether or not there is true correlation between the body mass of the bird over time in each habitat. This could be partially due to us grouping all birds together instead of categorizeing birds by both species and habitat. Due to this and the limited time frame (5 years), it is worth further researching how Shade Coffee habitats affect birds' performance over an extended period of time.\n",
        "\n",
        "Although the research surrounding shade coffee farms acting as a substitute for birds native environment is very preliminary, it is also worth exploring if shade coffee may act as a bubble of biodiversity admist the troubles deforestation and climate change bring about. Specifically, shade coffee environments not only do not bare the risk of being cut down, but because they are being utilized for agriculture, they also recieve ample water as well. Consequently, birds may be more apt to live in/near shade coffee farms because they may present less biodiversity than a typical rainforest would, but they provide birds with a more stable environment."
      ],
      "metadata": {
        "id": "pOzCCiDztRiB"
      }
    }
  ]
}